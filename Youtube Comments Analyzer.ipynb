{
 "cells": [
  {
   "cell_type": "code",
   "execution_count": 30,
   "metadata": {},
   "outputs": [],
   "source": [
    "from selenium import webdriver\n",
    "from selenium.webdriver.common.keys import Keys\n",
    "import time\n",
    "driver = webdriver.Chrome(executable_path=\"C:\\\\Users\\\\Home\\\\Desktop\\\\Python\\\\SeleniumTests\\\\drivers\\\\chromedriver.exe\")\n",
    "def data(url):\n",
    "    comments=[]\n",
    "    names=[]\n",
    "    driver.get(url)\n",
    "    driver.maximize_window()\n",
    "    height =driver.get_window_size()['height']\n",
    "    comment_section = driver.find_element_by_xpath('//*[@id=\"contents\"]')\n",
    "    driver.execute_script(\"arguments[0].scrollIntoView();\", comment_section)\n",
    "    time.sleep(7)\n",
    "    oh=driver.execute_script(\"return document.documentElement.scrollHeight\")\n",
    "    while True:\n",
    "        try:\n",
    "            driver.execute_script(\"window.scrollTo(0, document.documentElement.scrollHeight);\")\n",
    "            time.sleep(2)\n",
    "            nh = driver.execute_script(\"return document.documentElement.scrollHeight\")\n",
    "            if nh == oh:\n",
    "                break   \n",
    "            oh=nh\n",
    "        except StaleElementReferenceException:\n",
    "            break\n",
    "    names=driver.find_elements_by_xpath('//*[@id=\"author-text\"]')\n",
    "    comments=driver.find_elements_by_xpath('//*[@id=\"content-text\"]')\n",
    "    return [names,comments]"
   ]
  },
  {
   "cell_type": "code",
   "execution_count": 31,
   "metadata": {},
   "outputs": [
    {
     "name": "stdout",
     "output_type": "stream",
     "text": [
      "Enter urlhttps://www.youtube.com/watch?v=MIo0u_ImfHs\n"
     ]
    }
   ],
   "source": [
    "import pandas as pd\n",
    "url=input(\"Enter url\")\n",
    "data1=data(url)\n",
    "name=[]\n",
    "comment=[]\n",
    "for i in data1[0]:\n",
    "    name.append(i.text)\n",
    "for i in data1[1]:\n",
    "    comment.append(i.text)\n",
    "driver.close()\n",
    "df=pd.DataFrame(list(zip(name,comment)),columns=['Name','Comment'])"
   ]
  },
  {
   "cell_type": "code",
   "execution_count": 32,
   "metadata": {},
   "outputs": [
    {
     "data": {
      "text/html": [
       "<div>\n",
       "<style scoped>\n",
       "    .dataframe tbody tr th:only-of-type {\n",
       "        vertical-align: middle;\n",
       "    }\n",
       "\n",
       "    .dataframe tbody tr th {\n",
       "        vertical-align: top;\n",
       "    }\n",
       "\n",
       "    .dataframe thead th {\n",
       "        text-align: right;\n",
       "    }\n",
       "</style>\n",
       "<table border=\"1\" class=\"dataframe\">\n",
       "  <thead>\n",
       "    <tr style=\"text-align: right;\">\n",
       "      <th></th>\n",
       "      <th>Name</th>\n",
       "      <th>Comment</th>\n",
       "    </tr>\n",
       "  </thead>\n",
       "  <tbody>\n",
       "    <tr>\n",
       "      <th>0</th>\n",
       "      <td>S G</td>\n",
       "      <td>Why take this risk? Juat do something to kidna...</td>\n",
       "    </tr>\n",
       "    <tr>\n",
       "      <th>1</th>\n",
       "      <td>M In J’s</td>\n",
       "      <td>The driver jumped out without a problem while ...</td>\n",
       "    </tr>\n",
       "    <tr>\n",
       "      <th>2</th>\n",
       "      <td>Nazaky</td>\n",
       "      <td>Vin Diesel stealing diesel.</td>\n",
       "    </tr>\n",
       "    <tr>\n",
       "      <th>3</th>\n",
       "      <td>Alfredo Bergagna</td>\n",
       "      <td>4:50\\nleft rear wheel completely destroyed</td>\n",
       "    </tr>\n",
       "    <tr>\n",
       "      <th>4</th>\n",
       "      <td>Diego Plante</td>\n",
       "      <td>6:27 are we just gonna ignore that launch?</td>\n",
       "    </tr>\n",
       "    <tr>\n",
       "      <th>...</th>\n",
       "      <td>...</td>\n",
       "      <td>...</td>\n",
       "    </tr>\n",
       "    <tr>\n",
       "      <th>1294</th>\n",
       "      <td>jhon DOE</td>\n",
       "      <td>i seen every single movie except the fate of t...</td>\n",
       "    </tr>\n",
       "    <tr>\n",
       "      <th>1295</th>\n",
       "      <td>nitin kumar nimesh</td>\n",
       "      <td>हे, मैंने आपको 50 रुपए Paytm कैश भेजा है। वह प...</td>\n",
       "    </tr>\n",
       "    <tr>\n",
       "      <th>1296</th>\n",
       "      <td>Ron</td>\n",
       "      <td>If the truck driver can jump into the road nic...</td>\n",
       "    </tr>\n",
       "    <tr>\n",
       "      <th>1297</th>\n",
       "      <td>Your Majesty</td>\n",
       "      <td>The truck driver is the hero in this scene, he...</td>\n",
       "    </tr>\n",
       "    <tr>\n",
       "      <th>1298</th>\n",
       "      <td>Ahmet CÖMERT</td>\n",
       "      <td>https://www.youtube.com/watch?v=ts7eV_Y9Jf0&amp;t=12s</td>\n",
       "    </tr>\n",
       "  </tbody>\n",
       "</table>\n",
       "<p>1299 rows × 2 columns</p>\n",
       "</div>"
      ],
      "text/plain": [
       "                    Name                                            Comment\n",
       "0                    S G  Why take this risk? Juat do something to kidna...\n",
       "1               M In J’s  The driver jumped out without a problem while ...\n",
       "2                 Nazaky                       Vin Diesel stealing diesel. \n",
       "3       Alfredo Bergagna         4:50\\nleft rear wheel completely destroyed\n",
       "4           Diego Plante         6:27 are we just gonna ignore that launch?\n",
       "...                  ...                                                ...\n",
       "1294            jhon DOE  i seen every single movie except the fate of t...\n",
       "1295  nitin kumar nimesh  हे, मैंने आपको 50 रुपए Paytm कैश भेजा है। वह प...\n",
       "1296                 Ron  If the truck driver can jump into the road nic...\n",
       "1297        Your Majesty  The truck driver is the hero in this scene, he...\n",
       "1298        Ahmet CÖMERT  https://www.youtube.com/watch?v=ts7eV_Y9Jf0&t=12s\n",
       "\n",
       "[1299 rows x 2 columns]"
      ]
     },
     "execution_count": 32,
     "metadata": {},
     "output_type": "execute_result"
    }
   ],
   "source": [
    "df"
   ]
  },
  {
   "cell_type": "code",
   "execution_count": 57,
   "metadata": {},
   "outputs": [
    {
     "name": "stderr",
     "output_type": "stream",
     "text": [
      "[nltk_data] Downloading package vader_lexicon to\n",
      "[nltk_data]     C:\\Users\\Home\\AppData\\Roaming\\nltk_data...\n",
      "[nltk_data]   Package vader_lexicon is already up-to-date!\n"
     ]
    }
   ],
   "source": [
    "import nltk\n",
    "import emoji\n",
    "import re \n",
    "nltk.download('vader_lexicon')\n",
    "from nltk.sentiment.vader import SentimentIntensityAnalyzer\n",
    "sid=SentimentIntensityAnalyzer()\n",
    "def preprocess(x):\n",
    "    text=emoji.demojize(x)\n",
    "    txt=re.sub(\"[:,_]\",\" \",text)\n",
    "    return sid.polarity_scores(txt)['compound']\n",
    "    "
   ]
  },
  {
   "cell_type": "code",
   "execution_count": 58,
   "metadata": {},
   "outputs": [],
   "source": [
    "df['Score']=df['Comment'].apply(lambda x: preprocess(x))"
   ]
  },
  {
   "cell_type": "code",
   "execution_count": 59,
   "metadata": {},
   "outputs": [
    {
     "data": {
      "text/html": [
       "<div>\n",
       "<style scoped>\n",
       "    .dataframe tbody tr th:only-of-type {\n",
       "        vertical-align: middle;\n",
       "    }\n",
       "\n",
       "    .dataframe tbody tr th {\n",
       "        vertical-align: top;\n",
       "    }\n",
       "\n",
       "    .dataframe thead th {\n",
       "        text-align: right;\n",
       "    }\n",
       "</style>\n",
       "<table border=\"1\" class=\"dataframe\">\n",
       "  <thead>\n",
       "    <tr style=\"text-align: right;\">\n",
       "      <th></th>\n",
       "      <th>Name</th>\n",
       "      <th>Comment</th>\n",
       "      <th>Score</th>\n",
       "    </tr>\n",
       "  </thead>\n",
       "  <tbody>\n",
       "    <tr>\n",
       "      <th>0</th>\n",
       "      <td>S G</td>\n",
       "      <td>Why take this risk? Juat do something to kidna...</td>\n",
       "      <td>-0.3767</td>\n",
       "    </tr>\n",
       "    <tr>\n",
       "      <th>1</th>\n",
       "      <td>M In J’s</td>\n",
       "      <td>The driver jumped out without a problem while ...</td>\n",
       "      <td>0.6765</td>\n",
       "    </tr>\n",
       "    <tr>\n",
       "      <th>2</th>\n",
       "      <td>Nazaky</td>\n",
       "      <td>Vin Diesel stealing diesel.</td>\n",
       "      <td>-0.5719</td>\n",
       "    </tr>\n",
       "    <tr>\n",
       "      <th>3</th>\n",
       "      <td>Alfredo Bergagna</td>\n",
       "      <td>4:50\\nleft rear wheel completely destroyed</td>\n",
       "      <td>-0.5413</td>\n",
       "    </tr>\n",
       "    <tr>\n",
       "      <th>4</th>\n",
       "      <td>Diego Plante</td>\n",
       "      <td>6:27 are we just gonna ignore that launch?</td>\n",
       "      <td>-0.3612</td>\n",
       "    </tr>\n",
       "    <tr>\n",
       "      <th>...</th>\n",
       "      <td>...</td>\n",
       "      <td>...</td>\n",
       "      <td>...</td>\n",
       "    </tr>\n",
       "    <tr>\n",
       "      <th>1294</th>\n",
       "      <td>jhon DOE</td>\n",
       "      <td>i seen every single movie except the fate of t...</td>\n",
       "      <td>0.0772</td>\n",
       "    </tr>\n",
       "    <tr>\n",
       "      <th>1295</th>\n",
       "      <td>nitin kumar nimesh</td>\n",
       "      <td>हे, मैंने आपको 50 रुपए Paytm कैश भेजा है। वह प...</td>\n",
       "      <td>0.0000</td>\n",
       "    </tr>\n",
       "    <tr>\n",
       "      <th>1296</th>\n",
       "      <td>Ron</td>\n",
       "      <td>If the truck driver can jump into the road nic...</td>\n",
       "      <td>0.7190</td>\n",
       "    </tr>\n",
       "    <tr>\n",
       "      <th>1297</th>\n",
       "      <td>Your Majesty</td>\n",
       "      <td>The truck driver is the hero in this scene, he...</td>\n",
       "      <td>0.0258</td>\n",
       "    </tr>\n",
       "    <tr>\n",
       "      <th>1298</th>\n",
       "      <td>Ahmet CÖMERT</td>\n",
       "      <td>https://www.youtube.com/watch?v=ts7eV_Y9Jf0&amp;t=12s</td>\n",
       "      <td>0.0000</td>\n",
       "    </tr>\n",
       "  </tbody>\n",
       "</table>\n",
       "<p>1299 rows × 3 columns</p>\n",
       "</div>"
      ],
      "text/plain": [
       "                    Name                                            Comment  \\\n",
       "0                    S G  Why take this risk? Juat do something to kidna...   \n",
       "1               M In J’s  The driver jumped out without a problem while ...   \n",
       "2                 Nazaky                       Vin Diesel stealing diesel.    \n",
       "3       Alfredo Bergagna         4:50\\nleft rear wheel completely destroyed   \n",
       "4           Diego Plante         6:27 are we just gonna ignore that launch?   \n",
       "...                  ...                                                ...   \n",
       "1294            jhon DOE  i seen every single movie except the fate of t...   \n",
       "1295  nitin kumar nimesh  हे, मैंने आपको 50 रुपए Paytm कैश भेजा है। वह प...   \n",
       "1296                 Ron  If the truck driver can jump into the road nic...   \n",
       "1297        Your Majesty  The truck driver is the hero in this scene, he...   \n",
       "1298        Ahmet CÖMERT  https://www.youtube.com/watch?v=ts7eV_Y9Jf0&t=12s   \n",
       "\n",
       "       Score  \n",
       "0    -0.3767  \n",
       "1     0.6765  \n",
       "2    -0.5719  \n",
       "3    -0.5413  \n",
       "4    -0.3612  \n",
       "...      ...  \n",
       "1294  0.0772  \n",
       "1295  0.0000  \n",
       "1296  0.7190  \n",
       "1297  0.0258  \n",
       "1298  0.0000  \n",
       "\n",
       "[1299 rows x 3 columns]"
      ]
     },
     "execution_count": 59,
     "metadata": {},
     "output_type": "execute_result"
    }
   ],
   "source": [
    "df"
   ]
  },
  {
   "cell_type": "code",
   "execution_count": 68,
   "metadata": {},
   "outputs": [],
   "source": [
    "Final_score = df['Score'].describe().loc['mean']"
   ]
  },
  {
   "cell_type": "code",
   "execution_count": 70,
   "metadata": {},
   "outputs": [
    {
     "name": "stdout",
     "output_type": "stream",
     "text": [
      "Positive Reviews\n",
      "Score: 0.09864003079291754\n"
     ]
    }
   ],
   "source": [
    "if Final_score>0:\n",
    "    print(\"Positive Reviews\\nScore:\",Final_score)\n",
    "elif Final_score<0:\n",
    "    print(\"Negative Reviews\\nScore:\",Final_score)\n",
    "else :\n",
    "    print(\"Moderate Reviews\\nScore:\",Final_score)"
   ]
  },
  {
   "cell_type": "code",
   "execution_count": null,
   "metadata": {},
   "outputs": [],
   "source": []
  }
 ],
 "metadata": {
  "kernelspec": {
   "display_name": "Python 3",
   "language": "python",
   "name": "python3"
  },
  "language_info": {
   "codemirror_mode": {
    "name": "ipython",
    "version": 3
   },
   "file_extension": ".py",
   "mimetype": "text/x-python",
   "name": "python",
   "nbconvert_exporter": "python",
   "pygments_lexer": "ipython3",
   "version": "3.7.1"
  }
 },
 "nbformat": 4,
 "nbformat_minor": 2
}
