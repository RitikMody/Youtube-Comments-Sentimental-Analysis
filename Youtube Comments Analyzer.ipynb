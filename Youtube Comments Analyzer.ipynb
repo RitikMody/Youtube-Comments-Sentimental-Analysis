{
 "cells": [
  {
   "cell_type": "code",
   "execution_count": null,
   "metadata": {},
   "outputs": [],
   "source": [
    "from selenium import webdriver\n",
    "from selenium.webdriver.common.keys import Keys\n",
    "import time\n",
    "import os\n",
    "d=os.path.abspath(\"drivers\\\\chromedriver.exe\")\n",
    "driver = webdriver.Chrome(executable_path=\"C:\\\\Users\\\\Home\\\\Desktop\\\\Python\\\\SeleniumTests\\\\drivers\\\\chromedriver.exe\")\n",
    "def data(url):\n",
    "    comments=[]\n",
    "    names=[]\n",
    "    driver.get(url)\n",
    "    driver.maximize_window()\n",
    "    height =driver.get_window_size()['height']\n",
    "    comment_section = driver.find_element_by_xpath('//*[@id=\"contents\"]')\n",
    "    driver.execute_script(\"arguments[0].scrollIntoView();\", comment_section)\n",
    "    time.sleep(7)\n",
    "    oh=driver.execute_script(\"return document.documentElement.scrollHeight\")\n",
    "    while True:\n",
    "        try:\n",
    "            driver.execute_script(\"window.scrollTo(0, document.documentElement.scrollHeight);\")\n",
    "            time.sleep(2)\n",
    "            nh = driver.execute_script(\"return document.documentElement.scrollHeight\")\n",
    "            if nh == oh:\n",
    "                break   \n",
    "            oh=nh\n",
    "        except StaleElementReferenceException:\n",
    "            break\n",
    "    names=driver.find_elements_by_xpath('//*[@id=\"author-text\"]')\n",
    "    comments=driver.find_elements_by_xpath('//*[@id=\"content-text\"]')\n",
    "    return [names,comments]"
   ]
  },
  {
   "cell_type": "code",
   "execution_count": null,
   "metadata": {},
   "outputs": [],
   "source": [
    "import pandas as pd\n",
    "url=input(\"Enter url\")\n",
    "data1=data(url)\n",
    "name=[]\n",
    "comment=[]\n",
    "for i in data1[0]:\n",
    "    name.append(i.text)\n",
    "for i in data1[1]:\n",
    "    comment.append(i.text)\n",
    "driver.close()\n",
    "df=pd.DataFrame(list(zip(name,comment)),columns=['Name','Comment'])"
   ]
  },
  {
   "cell_type": "code",
   "execution_count": null,
   "metadata": {},
   "outputs": [],
   "source": [
    "df"
   ]
  },
  {
   "cell_type": "code",
   "execution_count": null,
   "metadata": {},
   "outputs": [],
   "source": [
    "import nltk\n",
    "import emoji\n",
    "import re \n",
    "nltk.download('vader_lexicon')\n",
    "from nltk.sentiment.vader import SentimentIntensityAnalyzer\n",
    "sid=SentimentIntensityAnalyzer()\n",
    "def preprocess(x):\n",
    "    text=emoji.demojize(x)\n",
    "    txt=re.sub(\"[:,_]\",\" \",text)\n",
    "    return sid.polarity_scores(txt)['compound']\n",
    "    "
   ]
  },
  {
   "cell_type": "code",
   "execution_count": null,
   "metadata": {},
   "outputs": [],
   "source": [
    "df['Score']=df['Comment'].apply(lambda x: preprocess(x))"
   ]
  },
  {
   "cell_type": "code",
   "execution_count": null,
   "metadata": {},
   "outputs": [],
   "source": [
    "df"
   ]
  },
  {
   "cell_type": "code",
   "execution_count": null,
   "metadata": {},
   "outputs": [],
   "source": [
    "Final_score = df['Score'].describe().loc['mean']"
   ]
  },
  {
   "cell_type": "code",
   "execution_count": null,
   "metadata": {},
   "outputs": [],
   "source": [
    "if Final_score>0:\n",
    "    print(\"Positive Reviews\\nScore:\",Final_score)\n",
    "elif Final_score<0:\n",
    "    print(\"Negative Reviews\\nScore:\",Final_score)\n",
    "else :\n",
    "    print(\"Moderate Reviews\\nScore:\",Final_score)"
   ]
  }
 ],
 "metadata": {
  "kernelspec": {
   "display_name": "Python 3",
   "language": "python",
   "name": "python3"
  },
  "language_info": {
   "codemirror_mode": {
    "name": "ipython",
    "version": 3
   },
   "file_extension": ".py",
   "mimetype": "text/x-python",
   "name": "python",
   "nbconvert_exporter": "python",
   "pygments_lexer": "ipython3",
   "version": "3.7.1"
  }
 },
 "nbformat": 4,
 "nbformat_minor": 2
}
